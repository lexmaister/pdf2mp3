{
 "cells": [
  {
   "cell_type": "code",
   "execution_count": 2,
   "id": "f8e5f085",
   "metadata": {},
   "outputs": [
    {
     "data": {
      "text/plain": [
       "['The Consul walked through the holo of Meina Gladstone, \\nretrieved his glass, and went to pour another Scotch',\n",
       " '“You have been chosen to join the pilgrimage to the \\nShrike,” said the image of the old CEO whom the press loved \\nto compare to Lincoln or Churchill or Alvarez-Temp or \\nwhatever other pre-Hegira legend was in historical vogue at \\nthe time. “The Templars are sending their treeship \\nYggdrasill’ said Gladstone, “and the evacuation task force \\ncommander has instructions to let it pass. With a three-week \\ntime-debt, you can rendezvous with the Yggdrasill before it \\ngoes quantum from the Parvati system. The six other \\npilgrims chosen by the Shrike Church will be aboard the \\ntreeship. Our intelligence reports suggest that at least one \\nof the seven pilgrims is an agent of the Ousters. We do \\nnot ... at this time ... have any way of knowing which one it \\nIs.',\n",
       " 'The Consul had to smile. Among all the other risks \\nGladstone was taking, the old woman had to consider the \\npossibility that he was the spy and that she was fatlining \\ncrucial information to an Ouster agent. Or had she given him \\nany crucial information? The fleet movements were \\ndetectable as soon as the ships used their Hawking drives, \\nand if the Consul were the spy, the CEO’s revelation might \\nbe a way to scare him off. The Consul’s smile faded and he \\ndrank his Scotch',\n",
       " '“Sol Weintraub and Fedmahn Kassad are among the seven \\npilgrims chosen,” said Gladstone',\n",
       " 'The Consul’s frown deepened. He stared at the cloud of \\ndigits flickering like dust motes around the old woman’s \\nimage. Fifteen seconds of fatline transmission time \\nremained.']"
      ]
     },
     "execution_count": 2,
     "metadata": {},
     "output_type": "execute_result"
    }
   ],
   "source": [
    "from pypdf import PdfReader\n",
    "import re\n",
    "\n",
    "# 1. Load PDF and extract text\n",
    "pdf_path = f'../tests/fixture/hyperion.pdf'\n",
    "pdf_reader = PdfReader(open(pdf_path, 'rb'))\n",
    "text = \"\"\n",
    "\n",
    "for page in pdf_reader.pages:\n",
    "    text += page.extract_text() + \"\\n\"\n",
    "    break\n",
    "\n",
    "chunks = re.split(r'[.”]\\s*\\n', text.strip())\n",
    "\n",
    "chunks = [chunk.strip() for chunk in chunks if chunk.strip()]\n",
    "chunks"
   ]
  }
 ],
 "metadata": {
  "kernelspec": {
   "display_name": ".venv",
   "language": "python",
   "name": "python3"
  },
  "language_info": {
   "codemirror_mode": {
    "name": "ipython",
    "version": 3
   },
   "file_extension": ".py",
   "mimetype": "text/x-python",
   "name": "python",
   "nbconvert_exporter": "python",
   "pygments_lexer": "ipython3",
   "version": "3.10.12"
  }
 },
 "nbformat": 4,
 "nbformat_minor": 5
}
