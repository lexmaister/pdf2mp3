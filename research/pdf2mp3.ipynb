{
 "cells": [
  {
   "cell_type": "code",
   "execution_count": 1,
   "id": "5df43ae9",
   "metadata": {},
   "outputs": [
    {
     "name": "stdout",
     "output_type": "stream",
     "text": [
      "Running Kokoro on cpu\n"
     ]
    }
   ],
   "source": [
    "import torch\n",
    "\n",
    "# 1️⃣ Decide once, at start-up, where to run everything\n",
    "DEVICE = \"cuda:0\" if torch.cuda.is_available() else \"cpu\"\n",
    "print(f\"Running Kokoro on {DEVICE}\")\n"
   ]
  },
  {
   "cell_type": "code",
   "execution_count": 2,
   "id": "f8e5f085",
   "metadata": {},
   "outputs": [
    {
     "name": "stdout",
     "output_type": "stream",
     "text": [
      "WARNING: Defaulting repo_id to hexgrad/Kokoro-82M. Pass repo_id='hexgrad/Kokoro-82M' to suppress this warning.\n"
     ]
    },
    {
     "name": "stderr",
     "output_type": "stream",
     "text": [
      "/home/alex/Projects/TTS/.venv/lib/python3.10/site-packages/torch/nn/modules/rnn.py:123: UserWarning: dropout option adds dropout after all but last recurrent layer, so non-zero dropout expects num_layers greater than 1, but got dropout=0.2 and num_layers=1\n",
      "  warnings.warn(\n",
      "/home/alex/Projects/TTS/.venv/lib/python3.10/site-packages/torch/nn/utils/weight_norm.py:143: FutureWarning: `torch.nn.utils.weight_norm` is deprecated in favor of `torch.nn.utils.parametrizations.weight_norm`.\n",
      "  WeightNorm.apply(module, name, dim)\n"
     ]
    },
    {
     "data": {
      "application/vnd.jupyter.widget-view+json": {
       "model_id": "59f309d293604501a57d0947d320ad27",
       "version_major": 2,
       "version_minor": 0
      },
      "text/plain": [
       "Synthesizing:   0%|          | 0/352 [00:00<?, ?chunk/s]"
      ]
     },
     "metadata": {},
     "output_type": "display_data"
    },
    {
     "name": "stdout",
     "output_type": "stream",
     "text": [
      "Saved to endymion_50-54.mp3\n"
     ]
    }
   ],
   "source": [
    "import PyPDF2\n",
    "from kokoro import KPipeline\n",
    "import soundfile as sf\n",
    "import numpy as np\n",
    "from tqdm.notebook import tqdm  # <- for the progress bar\n",
    "import re\n",
    "\n",
    "\n",
    "# 1. Load PDF and extract text\n",
    "abook_file = \"endymion_50-54\"\n",
    "pdf_path = f'/home/alex/Projects/TTS/kokoro/Dan Simmons - Endymion/{abook_file}.pdf'\n",
    "with open(pdf_path, \"rb\") as fh:\n",
    "    pdf_reader = PyPDF2.PdfReader(fh)\n",
    "    text = \"\\n\".join(page.extract_text() or \"\" for page in pdf_reader.pages)\n",
    "\n",
    "# 2. Initialize Kokoro TTS pipeline\n",
    "pipeline = KPipeline(lang_code='b', device=DEVICE) \n",
    "\n",
    "# 3. Count how many chunks will be generated for more accurate progress (optional!)\n",
    "split_pat = re.compile(r'[.”]\\s*\\n')          # keep the delimiter simpler\n",
    "chunks = [c.strip() for c in split_pat.split(text) if c.strip()]\n",
    "num_chunks = len(chunks)\n",
    "\n",
    "# 4. Generate audio from PDF text\n",
    "generator = pipeline(\n",
    "    text,\n",
    "    voice=\"bf_emma\",\n",
    "    speed=0.8,\n",
    "    split_pattern=split_pat.pattern     # pass the raw pattern\n",
    ")\n",
    "all_audio = []\n",
    "for i, (*_, audio) in tqdm(\n",
    "        enumerate(generator, 1),\n",
    "        total=num_chunks,\n",
    "        desc=\"Synthesizing\",\n",
    "        unit=\"chunk\"):\n",
    "    all_audio.append(audio)\n",
    "\n",
    "if all_audio:\n",
    "    merged_audio = np.concatenate(all_audio, axis=0)\n",
    "    sf.write(\n",
    "    file=pdf_path.split('.')[0] + '.mp3',\n",
    "    data=merged_audio, \n",
    "    samplerate=24000, \n",
    "    format='MP3',\n",
    "    bitrate_mode='CONSTANT', \n",
    "    compression_level=.5\n",
    "    )\n",
    "    print(f\"Saved to {abook_file}.mp3\")\n",
    "else:\n",
    "    print(\"No audio generated.\")"
   ]
  }
 ],
 "metadata": {
  "kernelspec": {
   "display_name": ".venv",
   "language": "python",
   "name": "python3"
  },
  "language_info": {
   "codemirror_mode": {
    "name": "ipython",
    "version": 3
   },
   "file_extension": ".py",
   "mimetype": "text/x-python",
   "name": "python",
   "nbconvert_exporter": "python",
   "pygments_lexer": "ipython3",
   "version": "3.10.12"
  }
 },
 "nbformat": 4,
 "nbformat_minor": 5
}
